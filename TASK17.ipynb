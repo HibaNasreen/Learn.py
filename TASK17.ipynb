{
  "nbformat": 4,
  "nbformat_minor": 0,
  "metadata": {
    "colab": {
      "name": "Copy of Copy of TASK 17.ipynb",
      "provenance": [],
      "collapsed_sections": [],
      "include_colab_link": true
    },
    "kernelspec": {
      "name": "python3",
      "display_name": "Python 3"
    },
    "language_info": {
      "name": "python"
    }
  },
  "cells": [
    {
      "cell_type": "markdown",
      "metadata": {
        "id": "view-in-github",
        "colab_type": "text"
      },
      "source": [
        "<a href=\"https://colab.research.google.com/github/HibaNasreen/Learn.py/blob/main/TASK17.ipynb\" target=\"_parent\"><img src=\"https://colab.research.google.com/assets/colab-badge.svg\" alt=\"Open In Colab\"/></a>"
      ]
    },
    {
      "cell_type": "markdown",
      "metadata": {
        "id": "0SLapvpoaeYY"
      },
      "source": [
        "1. Create a DataFrame by passing a random numpy array,with a datetie index and labelled columns.and display its,\n",
        "     - Head\n",
        "     - Tail\n",
        "     - Index \n",
        "     - Columns\n",
        "     - Values\n",
        "     - statistics\n"
      ]
    },
    {
      "cell_type": "code",
      "metadata": {
        "id": "zJDkjyVxa5yU",
        "colab": {
          "base_uri": "https://localhost:8080/"
        },
        "outputId": "d501a8ce-8ed4-4d75-ba71-20c9465d0b49"
      },
      "source": [
        "#please type your answer below this line.\n",
        "import pandas as pd\n",
        "import numpy as np\n",
        "dates=pd.date_range('20201010',periods=6)\n",
        "df=pd.DataFrame(np.random.randn(6,4),index=dates,columns=list('ABCD'))\n",
        "print(df)\n",
        "print(df.head())\n",
        "print(df.tail())\n",
        "print(df.index)\n",
        "print(pd.set_option('display.max_columns',None))\n",
        "print(df.values)\n",
        "print(df.describe())"
      ],
      "execution_count": 10,
      "outputs": [
        {
          "output_type": "stream",
          "text": [
            "                   A         B         C         D\n",
            "2020-10-10 -0.704613  0.787012 -0.587085 -0.710492\n",
            "2020-10-11  0.062136 -0.791448  0.501250 -0.352888\n",
            "2020-10-12  0.202354 -0.695998  2.049756  0.262909\n",
            "2020-10-13 -0.168345  1.035617  0.283000  0.117066\n",
            "2020-10-14  1.350268 -1.249235  0.963410  1.274257\n",
            "2020-10-15 -0.305216 -0.204385  0.881676  1.796170\n",
            "                   A         B         C         D\n",
            "2020-10-10 -0.704613  0.787012 -0.587085 -0.710492\n",
            "2020-10-11  0.062136 -0.791448  0.501250 -0.352888\n",
            "2020-10-12  0.202354 -0.695998  2.049756  0.262909\n",
            "2020-10-13 -0.168345  1.035617  0.283000  0.117066\n",
            "2020-10-14  1.350268 -1.249235  0.963410  1.274257\n",
            "                   A         B         C         D\n",
            "2020-10-11  0.062136 -0.791448  0.501250 -0.352888\n",
            "2020-10-12  0.202354 -0.695998  2.049756  0.262909\n",
            "2020-10-13 -0.168345  1.035617  0.283000  0.117066\n",
            "2020-10-14  1.350268 -1.249235  0.963410  1.274257\n",
            "2020-10-15 -0.305216 -0.204385  0.881676  1.796170\n",
            "DatetimeIndex(['2020-10-10', '2020-10-11', '2020-10-12', '2020-10-13',\n",
            "               '2020-10-14', '2020-10-15'],\n",
            "              dtype='datetime64[ns]', freq='D')\n",
            "None\n",
            "[[-0.70461302  0.78701225 -0.58708517 -0.71049187]\n",
            " [ 0.06213592 -0.7914484   0.50125011 -0.35288763]\n",
            " [ 0.20235401 -0.69599786  2.04975553  0.26290869]\n",
            " [-0.16834486  1.03561657  0.28300012  0.11706584]\n",
            " [ 1.35026781 -1.24923526  0.96340999  1.27425695]\n",
            " [-0.30521614 -0.20438523  0.88167624  1.79616959]]\n",
            "              A         B         C         D\n",
            "count  6.000000  6.000000  6.000000  6.000000\n",
            "mean   0.072764 -0.186406  0.682001  0.397837\n",
            "std    0.700605  0.916141  0.870892  0.960465\n",
            "min   -0.704613 -1.249235 -0.587085 -0.710492\n",
            "25%   -0.270998 -0.767586  0.337563 -0.235399\n",
            "50%   -0.053104 -0.450192  0.691463  0.189987\n",
            "75%    0.167299  0.539163  0.942977  1.021420\n",
            "max    1.350268  1.035617  2.049756  1.796170\n"
          ],
          "name": "stdout"
        }
      ]
    },
    {
      "cell_type": "markdown",
      "metadata": {
        "id": "xnkA2mKDdyoO"
      },
      "source": [
        "2. Use the above table and,\n",
        "      - find transpose of your data.\n",
        "      - sort the index in the descending order of the date."
      ]
    },
    {
      "cell_type": "code",
      "metadata": {
        "id": "uqcQSEOufJ5P",
        "colab": {
          "base_uri": "https://localhost:8080/"
        },
        "outputId": "2a3c4cd9-8f09-4376-eb9b-0d6cd69e7367"
      },
      "source": [
        "#please provide your answer below this line.\n",
        "import pandas as pd\n",
        "import numpy as np\n",
        "dates=pd.date_range('20201010',periods=6)\n",
        "df=pd.DataFrame(np.random.randn(6,4),index=dates,columns=list('ABCD'))\n",
        "print(df)\n",
        "print(df.T)\n",
        "print(df.sort_index(ascending=False))\n"
      ],
      "execution_count": 5,
      "outputs": [
        {
          "output_type": "stream",
          "text": [
            "                   A         B         C         D\n",
            "2020-10-10  0.840143 -0.516072 -0.212200 -0.203215\n",
            "2020-10-11  1.181475  1.550726  0.529011  0.742229\n",
            "2020-10-12 -2.444831 -2.386470 -0.688290  0.883866\n",
            "2020-10-13  1.210271 -0.914503 -0.097719  0.280173\n",
            "2020-10-14 -2.416244 -2.138186  0.750589  1.642874\n",
            "2020-10-15  0.788687  0.430038 -0.847432 -1.070515\n",
            "   2020-10-10  2020-10-11  2020-10-12  2020-10-13  2020-10-14  2020-10-15\n",
            "A    0.840143    1.181475   -2.444831    1.210271   -2.416244    0.788687\n",
            "B   -0.516072    1.550726   -2.386470   -0.914503   -2.138186    0.430038\n",
            "C   -0.212200    0.529011   -0.688290   -0.097719    0.750589   -0.847432\n",
            "D   -0.203215    0.742229    0.883866    0.280173    1.642874   -1.070515\n",
            "                   A         B         C         D\n",
            "2020-10-15  0.788687  0.430038 -0.847432 -1.070515\n",
            "2020-10-14 -2.416244 -2.138186  0.750589  1.642874\n",
            "2020-10-13  1.210271 -0.914503 -0.097719  0.280173\n",
            "2020-10-12 -2.444831 -2.386470 -0.688290  0.883866\n",
            "2020-10-11  1.181475  1.550726  0.529011  0.742229\n",
            "2020-10-10  0.840143 -0.516072 -0.212200 -0.203215\n"
          ],
          "name": "stdout"
        }
      ]
    },
    {
      "cell_type": "markdown",
      "metadata": {
        "id": "ss7s_8iDbAcL"
      },
      "source": [
        ""
      ]
    }
  ]
}