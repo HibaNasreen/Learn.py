{
  "nbformat": 4,
  "nbformat_minor": 0,
  "metadata": {
    "colab": {
      "name": "TASK  7.ipynb",
      "provenance": [],
      "include_colab_link": true
    },
    "kernelspec": {
      "name": "python3",
      "display_name": "Python 3"
    },
    "language_info": {
      "name": "python"
    }
  },
  "cells": [
    {
      "cell_type": "markdown",
      "metadata": {
        "id": "view-in-github",
        "colab_type": "text"
      },
      "source": [
        "<a href=\"https://colab.research.google.com/github/HibaNasreen/Learn.py/blob/main/TASK_7.ipynb\" target=\"_parent\"><img src=\"https://colab.research.google.com/assets/colab-badge.svg\" alt=\"Open In Colab\"/></a>"
      ]
    },
    {
      "cell_type": "markdown",
      "metadata": {
        "id": "b0V3vwzcydKy"
      },
      "source": [
        "1. Write a program to check whether a  string is palindrome or not using functions. \n",
        "\n",
        "   ( A function is to be created to check whether the string is palindrome and it should give the output true or false to the main program)"
      ]
    },
    {
      "cell_type": "code",
      "metadata": {
        "id": "M2Mi7EOdyxiu"
      },
      "source": [
        "#please enter the code below this line.\n",
        " \n",
        "def palindrome(str):\n",
        "       rev=str[::-1]\n",
        "       if (str==rev):\n",
        "        return True\n",
        "       else:\n",
        "        return False\n",
        "x=input(\"Enter a string:\")\n",
        "if palindrome(x):\n",
        "    print(\"true\")\n",
        "else:\n",
        "    print(\"false\")"
      ],
      "execution_count": null,
      "outputs": []
    },
    {
      "cell_type": "markdown",
      "metadata": {
        "id": "vSiShTyOzEz-"
      },
      "source": [
        "2.  Write a menu driven program to find largest element in L, smallest element, avg of all values, sum of all values in L. All these operation should be performed in different functions and the result should be returned.\n",
        "\n",
        "\n",
        "      L=[23,24,11,90,1,41,9,99,28,56,72]"
      ]
    },
    {
      "cell_type": "code",
      "metadata": {
        "id": "fRtMIw_CzsmO",
        "colab": {
          "base_uri": "https://localhost:8080/"
        },
        "outputId": "28e577c6-ea5e-444f-ec65-38630843a8ed"
      },
      "source": [
        "#please enter the code below this line.\n",
        " \n",
        "L=[23,24,11,90,1,41,9,99,28,56,72]\n",
        "def largest(L):\n",
        "    max = L[0] \n",
        "    for x in L: \n",
        "        if x > max : \n",
        "             max = x \n",
        "    return max\n",
        "def smallest(L):\n",
        "    min = L[0] \n",
        "    for x in L: \n",
        "        if x <min : \n",
        "             min = x \n",
        "    return min\n",
        "def Average(L):\n",
        "    return sum(L) / len(L)\n",
        "def sums(L):\n",
        "    return sum(L)\n",
        "while True:\n",
        "    print (\"1.Largest number of L \")\n",
        "    print (\"2.Smallest number of L \")\n",
        "    print (\"3.Average of all numbers \")\n",
        "    print (\"4.Sum of all values in L\")\n",
        "    print (\"5.exit\")\n",
        "    y=int(input(\"Enter your choice:\"))\n",
        "    if (y==1):\n",
        "        print(\"largest number of L is\",largest(L))\n",
        "    elif (y==2):\n",
        "        print(\"smallest number of L is\",smallest(L))\n",
        "    elif (y==3):\n",
        "        print(\"Average of all the numbers in L\",Average(L))\n",
        "    elif(y==4):\n",
        "        print(\"Sum of all the numbers in L\",sums(L))\n",
        "    elif (y==5):\n",
        "            exit()\n",
        "            \n",
        "    else:\n",
        "        print(\"wrong choice\")"
      ],
      "execution_count": null,
      "outputs": [
        {
          "output_type": "stream",
          "text": [
            "1.Largest number of L \n",
            "2.Smallest number of L \n",
            "3.Average of all numbers \n",
            "4.Sum of all values in L\n",
            "5.exit\n",
            "Enter your choice:1\n",
            "largest number of L is 99\n",
            "1.Largest number of L \n",
            "2.Smallest number of L \n",
            "3.Average of all numbers \n",
            "4.Sum of all values in L\n",
            "5.exit\n",
            "Enter your choice:2\n",
            "smallest number of L is 1\n",
            "1.Largest number of L \n",
            "2.Smallest number of L \n",
            "3.Average of all numbers \n",
            "4.Sum of all values in L\n",
            "5.exit\n",
            "Enter your choice:3\n",
            "Average of all the numbers in L 41.27272727272727\n",
            "1.Largest number of L \n",
            "2.Smallest number of L \n",
            "3.Average of all numbers \n",
            "4.Sum of all values in L\n",
            "5.exit\n",
            "Enter your choice:4\n",
            "Sum of all the numbers in L 454\n",
            "1.Largest number of L \n",
            "2.Smallest number of L \n",
            "3.Average of all numbers \n",
            "4.Sum of all values in L\n",
            "5.exit\n",
            "Enter your choice:5\n",
            "1.Largest number of L \n",
            "2.Smallest number of L \n",
            "3.Average of all numbers \n",
            "4.Sum of all values in L\n",
            "5.exit\n"
          ],
          "name": "stdout"
        }
      ]
    }
  ]
}