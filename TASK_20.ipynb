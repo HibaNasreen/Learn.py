{
  "nbformat": 4,
  "nbformat_minor": 0,
  "metadata": {
    "colab": {
      "name": "Copy of TASK 20.ipynb",
      "provenance": [],
      "include_colab_link": true
    },
    "kernelspec": {
      "name": "python3",
      "display_name": "Python 3"
    },
    "language_info": {
      "name": "python"
    }
  },
  "cells": [
    {
      "cell_type": "markdown",
      "metadata": {
        "id": "view-in-github",
        "colab_type": "text"
      },
      "source": [
        "<a href=\"https://colab.research.google.com/github/HibaNasreen/Learn.py/blob/main/TASK_20.ipynb\" target=\"_parent\"><img src=\"https://colab.research.google.com/assets/colab-badge.svg\" alt=\"Open In Colab\"/></a>"
      ]
    },
    {
      "cell_type": "markdown",
      "metadata": {
        "id": "8LIfdcjDWmC3"
      },
      "source": [
        "1. In the data given below,\n",
        "  - find the boolean mask where value is nan\n",
        "  - remove the row with missing data.\n"
      ]
    },
    {
      "cell_type": "markdown",
      "metadata": {
        "id": "VPCGISRTbYPz"
      },
      "source": [
        ""
      ]
    },
    {
      "cell_type": "code",
      "metadata": {
        "colab": {
          "base_uri": "https://localhost:8080/"
        },
        "id": "VsZQYRqXXHpG",
        "outputId": "1328fc09-dead-464c-ab19-45fa953b622c"
      },
      "source": [
        "import pandas as pd\n",
        "import numpy as np\n",
        "dates = pd.date_range('20210101',periods=6)\n",
        "df = pd.DataFrame(np.random.randn(6,4), index=dates,columns=list('ABCD'))\n",
        "s1 = pd.Series([1,2,3,4,5,6], index=pd.date_range('20130102', periods=6))\n",
        "df[\"F\"]=s1\n",
        "df1=df.reindex(index=dates[0:4], columns=list(df.columns) + ['E'])\n",
        "df1.loc[dates[0]:dates[1],'E'] = 1\n",
        "print(df1)\n",
        "#please provide your answer below this line\n",
        "print(df1.isnull())\n",
        "print(df1.dropna(axis=0))"
      ],
      "execution_count": 2,
      "outputs": [
        {
          "output_type": "stream",
          "name": "stdout",
          "text": [
            "                   A         B         C         D   F    E\n",
            "2021-01-01 -0.751722 -1.113347 -1.552450  0.016610 NaN  1.0\n",
            "2021-01-02 -1.531038 -0.687194  0.592569  0.140176 NaN  1.0\n",
            "2021-01-03  0.124987  0.956172  0.925191  0.094306 NaN  NaN\n",
            "2021-01-04  0.746610  0.857295  0.905941 -1.491435 NaN  NaN\n",
            "                A      B      C      D     F      E\n",
            "2021-01-01  False  False  False  False  True  False\n",
            "2021-01-02  False  False  False  False  True  False\n",
            "2021-01-03  False  False  False  False  True   True\n",
            "2021-01-04  False  False  False  False  True   True\n",
            "Empty DataFrame\n",
            "Columns: [A, B, C, D, F, E]\n",
            "Index: []\n"
          ]
        }
      ]
    },
    {
      "cell_type": "markdown",
      "metadata": {
        "id": "z1sv0aluZhcd"
      },
      "source": [
        "2. In the data given below,fill the missing data with 20."
      ]
    },
    {
      "cell_type": "code",
      "metadata": {
        "colab": {
          "base_uri": "https://localhost:8080/"
        },
        "id": "x3ZHFCeyZ0j2",
        "outputId": "b16ef395-f424-45c8-a717-dbed976d43c2"
      },
      "source": [
        "import pandas as pd\n",
        "import numpy as np\n",
        "dates = pd.date_range('20210101',periods=6)\n",
        "df = pd.DataFrame(np.random.randn(6,4), index=dates,columns=list('ABCD'))\n",
        "s1 = pd.Series([1,2,3,4,5,6], index=pd.date_range('20130102', periods=6))\n",
        "df[\"F\"]=s1\n",
        "df1=df.reindex(index=dates[0:4], columns=list(df.columns) + ['E'])\n",
        "df1.loc[dates[0]:dates[1],'E'] = 1\n",
        "df1\n",
        "#please provide your answer below this line\n",
        "print(df1.fillna(value=20))"
      ],
      "execution_count": null,
      "outputs": [
        {
          "output_type": "stream",
          "name": "stdout",
          "text": [
            "                   A         B         C         D     F     E\n",
            "2021-01-01  0.412014 -2.127992 -1.370015  0.240943  20.0   1.0\n",
            "2021-01-02 -0.756691  0.444671  0.964631 -0.561870  20.0   1.0\n",
            "2021-01-03  1.771173 -0.588673 -1.135732 -0.032432  20.0  20.0\n",
            "2021-01-04 -0.553311  0.926283  2.369550  0.605441  20.0  20.0\n"
          ]
        }
      ]
    },
    {
      "cell_type": "markdown",
      "metadata": {
        "id": "vMzwvpxcZ3G8"
      },
      "source": [
        "3. From the data given below,\n",
        "  - break the data in to pieces from 0 t0 2 ,3 t0 7\n",
        "  - concatenate the pieces.\n",
        "  - concatenate the pieces along axis 1\n",
        "  - label each as 'a' and 'b' respectively and perform concatenation."
      ]
    },
    {
      "cell_type": "code",
      "metadata": {
        "colab": {
          "base_uri": "https://localhost:8080/"
        },
        "id": "LxGwKPTVbbXV",
        "outputId": "9bec4f7e-917d-4ae1-9234-5afdc3f33d8f"
      },
      "source": [
        "import pandas as pd\n",
        "import numpy as np\n",
        "df = pd.DataFrame(np.random.randn(10, 4))\n",
        "print(df)\n",
        "#please provide your answer below this line\n",
        "pieces=[df[:3],df[3:8]]\n",
        "print(pieces)\n",
        "print(pd.concat(pieces))\n",
        "print(pd.concat(pieces,axis=1))\n",
        "a=df[:3]\n",
        "b=df[3:8]\n",
        "print(pd.concat([a,b]))\n"
      ],
      "execution_count": null,
      "outputs": [
        {
          "output_type": "stream",
          "name": "stdout",
          "text": [
            "          0         1         2         3\n",
            "0 -1.866464 -0.570197  0.031738 -1.738499\n",
            "1  0.592308 -0.408468 -0.767112 -0.554461\n",
            "2 -0.518155 -0.168432  0.450623  0.627134\n",
            "3 -0.574170 -0.921635 -2.583452  1.909689\n",
            "4  0.237716  0.583647 -0.220387  0.078147\n",
            "5  0.409996  0.098298 -0.476128  0.652395\n",
            "6 -1.625485 -0.758118 -0.363180 -0.099554\n",
            "7 -0.784483  0.062553 -0.093414 -1.152270\n",
            "8 -0.073510  0.615753 -0.596638  1.224187\n",
            "9 -0.542823 -0.843574  0.746238  0.724032\n",
            "[          0         1         2         3\n",
            "0 -1.866464 -0.570197  0.031738 -1.738499\n",
            "1  0.592308 -0.408468 -0.767112 -0.554461\n",
            "2 -0.518155 -0.168432  0.450623  0.627134,           0         1         2         3\n",
            "3 -0.574170 -0.921635 -2.583452  1.909689\n",
            "4  0.237716  0.583647 -0.220387  0.078147\n",
            "5  0.409996  0.098298 -0.476128  0.652395\n",
            "6 -1.625485 -0.758118 -0.363180 -0.099554\n",
            "7 -0.784483  0.062553 -0.093414 -1.152270]\n",
            "          0         1         2         3\n",
            "0 -1.866464 -0.570197  0.031738 -1.738499\n",
            "1  0.592308 -0.408468 -0.767112 -0.554461\n",
            "2 -0.518155 -0.168432  0.450623  0.627134\n",
            "3 -0.574170 -0.921635 -2.583452  1.909689\n",
            "4  0.237716  0.583647 -0.220387  0.078147\n",
            "5  0.409996  0.098298 -0.476128  0.652395\n",
            "6 -1.625485 -0.758118 -0.363180 -0.099554\n",
            "7 -0.784483  0.062553 -0.093414 -1.152270\n",
            "          0         1         2  ...         1         2         3\n",
            "0 -1.866464 -0.570197  0.031738  ...       NaN       NaN       NaN\n",
            "1  0.592308 -0.408468 -0.767112  ...       NaN       NaN       NaN\n",
            "2 -0.518155 -0.168432  0.450623  ...       NaN       NaN       NaN\n",
            "3       NaN       NaN       NaN  ... -0.921635 -2.583452  1.909689\n",
            "4       NaN       NaN       NaN  ...  0.583647 -0.220387  0.078147\n",
            "5       NaN       NaN       NaN  ...  0.098298 -0.476128  0.652395\n",
            "6       NaN       NaN       NaN  ... -0.758118 -0.363180 -0.099554\n",
            "7       NaN       NaN       NaN  ...  0.062553 -0.093414 -1.152270\n",
            "\n",
            "[8 rows x 8 columns]\n",
            "          0         1         2         3\n",
            "0 -1.866464 -0.570197  0.031738 -1.738499\n",
            "1  0.592308 -0.408468 -0.767112 -0.554461\n",
            "2 -0.518155 -0.168432  0.450623  0.627134\n",
            "3 -0.574170 -0.921635 -2.583452  1.909689\n",
            "4  0.237716  0.583647 -0.220387  0.078147\n",
            "5  0.409996  0.098298 -0.476128  0.652395\n",
            "6 -1.625485 -0.758118 -0.363180 -0.099554\n",
            "7 -0.784483  0.062553 -0.093414 -1.152270\n"
          ]
        }
      ]
    },
    {
      "cell_type": "code",
      "metadata": {
        "id": "h290MAgudPQI"
      },
      "source": [
        ""
      ],
      "execution_count": null,
      "outputs": []
    }
  ]
}