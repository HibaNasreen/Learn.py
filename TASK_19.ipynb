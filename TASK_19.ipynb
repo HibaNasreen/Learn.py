{
  "nbformat": 4,
  "nbformat_minor": 0,
  "metadata": {
    "colab": {
      "name": "Copy of Copy of TASK 19.ipynb",
      "provenance": [],
      "include_colab_link": true
    },
    "kernelspec": {
      "name": "python3",
      "display_name": "Python 3"
    },
    "language_info": {
      "name": "python"
    }
  },
  "cells": [
    {
      "cell_type": "markdown",
      "metadata": {
        "id": "view-in-github",
        "colab_type": "text"
      },
      "source": [
        "<a href=\"https://colab.research.google.com/github/HibaNasreen/Learn.py/blob/main/TASK_19.ipynb\" target=\"_parent\"><img src=\"https://colab.research.google.com/assets/colab-badge.svg\" alt=\"Open In Colab\"/></a>"
      ]
    },
    {
      "cell_type": "markdown",
      "metadata": {
        "id": "6J-6GvX2JUcC"
      },
      "source": [
        "1. Create a DataFrame by passing a random numpy array,with a dateted index and labelled columns and display,\n",
        "  - where values of the column A is greater than 0.\n",
        "  - where values of the columns A is greater than 0 and B greater than -1.\n",
        "  - where values of the columns A  is greater than 0 or B greater than -1.\n"
      ]
    },
    {
      "cell_type": "code",
      "metadata": {
        "id": "xX-5VikpLcHL",
        "colab": {
          "base_uri": "https://localhost:8080/"
        },
        "outputId": "057132ee-d29a-4372-fa80-602a49ffc085"
      },
      "source": [
        "#please type your code below this line.\n",
        "import pandas as pd\n",
        "import numpy as np\n",
        "dates=pd.date_range('20201010',periods=6)\n",
        "df=pd.DataFrame(np.random.randn(6,4),index=dates,columns=list('ABCD'))\n",
        "print(df)\n",
        "a=df[df.A>0]\n",
        "print(a)\n",
        "print(df[(df.A>0)&(df.B>-1)])\n",
        "print(df[(df.A>0)|(df.B>-1)])"
      ],
      "execution_count": null,
      "outputs": [
        {
          "output_type": "stream",
          "name": "stdout",
          "text": [
            "                   A         B         C         D\n",
            "2020-10-10  0.473218  0.501449  0.545359  0.547355\n",
            "2020-10-11  0.554547 -0.590685 -0.483693 -0.727674\n",
            "2020-10-12 -0.123451  0.141210  0.245081  0.208930\n",
            "2020-10-13 -0.594813  0.428291  1.343210  0.331532\n",
            "2020-10-14  0.054435  1.041387 -0.249778  1.160608\n",
            "2020-10-15 -1.018733  0.835369  0.148424 -0.138068\n",
            "                   A         B         C         D\n",
            "2020-10-10  0.473218  0.501449  0.545359  0.547355\n",
            "2020-10-11  0.554547 -0.590685 -0.483693 -0.727674\n",
            "2020-10-14  0.054435  1.041387 -0.249778  1.160608\n",
            "                   A         B         C         D\n",
            "2020-10-10  0.473218  0.501449  0.545359  0.547355\n",
            "2020-10-11  0.554547 -0.590685 -0.483693 -0.727674\n",
            "2020-10-14  0.054435  1.041387 -0.249778  1.160608\n",
            "                   A         B         C         D\n",
            "2020-10-10  0.473218  0.501449  0.545359  0.547355\n",
            "2020-10-11  0.554547 -0.590685 -0.483693 -0.727674\n",
            "2020-10-12 -0.123451  0.141210  0.245081  0.208930\n",
            "2020-10-13 -0.594813  0.428291  1.343210  0.331532\n",
            "2020-10-14  0.054435  1.041387 -0.249778  1.160608\n",
            "2020-10-15 -1.018733  0.835369  0.148424 -0.138068\n"
          ]
        }
      ]
    },
    {
      "cell_type": "markdown",
      "metadata": {
        "id": "1WAf9SbwLp6o"
      },
      "source": [
        "2. Create a DataFrame by passing a random numpy array,with a dateted index and labelled columns and check if ,\n",
        "  - the values of the table are greater the zero or not.\n",
        "  - the value at the postion (0,0) is equal to NaN or not."
      ]
    },
    {
      "cell_type": "code",
      "metadata": {
        "id": "rBrt8pMeM2Q5",
        "colab": {
          "base_uri": "https://localhost:8080/"
        },
        "outputId": "0a182fb6-282b-4807-b2e4-da8265338f32"
      },
      "source": [
        "#please type your code below this line.\n",
        "import pandas as pd\n",
        "import numpy as np\n",
        "dates=pd.date_range('20201010',periods=6)\n",
        "df=pd.DataFrame(np.random.randn(6,4),index=dates,columns=list('ABCD'))\n",
        "print(df)\n",
        "print(df>0)\n",
        "df1=df.loc[dates[0],'A']\n",
        "print(pd.isna(df1))\n",
        "\n"
      ],
      "execution_count": 10,
      "outputs": [
        {
          "output_type": "stream",
          "name": "stdout",
          "text": [
            "                   A         B         C         D\n",
            "2020-10-10 -0.390229  0.272397  0.323167 -0.949029\n",
            "2020-10-11  2.279658  0.350842  1.314953 -0.435008\n",
            "2020-10-12  0.123846 -1.433831 -0.389515  0.600598\n",
            "2020-10-13 -1.775558  1.045306 -0.728627  1.007627\n",
            "2020-10-14  0.139047 -0.697394 -0.011081  0.305062\n",
            "2020-10-15  0.385970  0.448599  1.032495 -0.383209\n",
            "                A      B      C      D\n",
            "2020-10-10  False   True   True  False\n",
            "2020-10-11   True   True   True  False\n",
            "2020-10-12   True  False  False   True\n",
            "2020-10-13  False   True  False   True\n",
            "2020-10-14   True  False  False   True\n",
            "2020-10-15   True   True   True  False\n",
            "False\n"
          ]
        }
      ]
    },
    {
      "cell_type": "markdown",
      "metadata": {
        "id": "IfM9XYmiNaKB"
      },
      "source": [
        "3. Create a DataFrame by passing a random numpy array,with a dateted index and labelled columns and,\n",
        "  - reindex the index with even dates.\n",
        "  - create a column with values NaN.\n",
        "  - make the values of the first two index of the newly created column as 1"
      ]
    },
    {
      "cell_type": "code",
      "metadata": {
        "id": "F-w8kEfaORg3",
        "colab": {
          "base_uri": "https://localhost:8080/"
        },
        "outputId": "2d983715-d635-4839-cf05-fc37b8913098"
      },
      "source": [
        "#please type your answer below this line.\n",
        "import pandas as pd\n",
        "import numpy as np\n",
        "dates=pd.date_range('20201010',periods=6)\n",
        "df=pd.DataFrame(np.random.randn(6,4),index=dates,columns=list('ABCD'))\n",
        "print(df)\n",
        "df1=df.reindex(index=dates[::2],columns=list(df.columns))\n",
        "print(df1)\n",
        "print(df.assign(E=np.nan))\n",
        "df.loc[dates[0]:dates[1],'E']=1\n",
        "print(df)"
      ],
      "execution_count": 12,
      "outputs": [
        {
          "output_type": "stream",
          "name": "stdout",
          "text": [
            "                   A         B         C         D\n",
            "2020-10-10 -0.383678 -0.376457  1.470896 -1.053225\n",
            "2020-10-11  0.061715  0.984838  0.381422  0.895756\n",
            "2020-10-12  0.722565  0.369379  1.583809 -1.527559\n",
            "2020-10-13  0.408203  0.588260 -0.029974  0.321868\n",
            "2020-10-14 -0.014693 -0.793272  1.078062  1.335174\n",
            "2020-10-15 -0.590581 -0.810872 -0.405887 -1.235507\n",
            "                   A         B         C         D\n",
            "2020-10-10 -0.383678 -0.376457  1.470896 -1.053225\n",
            "2020-10-12  0.722565  0.369379  1.583809 -1.527559\n",
            "2020-10-14 -0.014693 -0.793272  1.078062  1.335174\n",
            "                   A         B         C         D   E\n",
            "2020-10-10 -0.383678 -0.376457  1.470896 -1.053225 NaN\n",
            "2020-10-11  0.061715  0.984838  0.381422  0.895756 NaN\n",
            "2020-10-12  0.722565  0.369379  1.583809 -1.527559 NaN\n",
            "2020-10-13  0.408203  0.588260 -0.029974  0.321868 NaN\n",
            "2020-10-14 -0.014693 -0.793272  1.078062  1.335174 NaN\n",
            "2020-10-15 -0.590581 -0.810872 -0.405887 -1.235507 NaN\n",
            "                   A         B         C         D    E\n",
            "2020-10-10 -0.383678 -0.376457  1.470896 -1.053225  1.0\n",
            "2020-10-11  0.061715  0.984838  0.381422  0.895756  1.0\n",
            "2020-10-12  0.722565  0.369379  1.583809 -1.527559  NaN\n",
            "2020-10-13  0.408203  0.588260 -0.029974  0.321868  NaN\n",
            "2020-10-14 -0.014693 -0.793272  1.078062  1.335174  NaN\n",
            "2020-10-15 -0.590581 -0.810872 -0.405887 -1.235507  NaN\n"
          ]
        }
      ]
    }
  ]
}