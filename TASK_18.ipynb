{
  "nbformat": 4,
  "nbformat_minor": 0,
  "metadata": {
    "colab": {
      "name": "Copy of TASK 18.ipynb",
      "provenance": [],
      "include_colab_link": true
    },
    "kernelspec": {
      "name": "python3",
      "display_name": "Python 3"
    },
    "language_info": {
      "name": "python"
    }
  },
  "cells": [
    {
      "cell_type": "markdown",
      "metadata": {
        "id": "view-in-github",
        "colab_type": "text"
      },
      "source": [
        "<a href=\"https://colab.research.google.com/github/HibaNasreen/Learn.py/blob/main/TASK_18.ipynb\" target=\"_parent\"><img src=\"https://colab.research.google.com/assets/colab-badge.svg\" alt=\"Open In Colab\"/></a>"
      ]
    },
    {
      "cell_type": "markdown",
      "metadata": {
        "id": "_JgXT8pEAjU4"
      },
      "source": [
        "1. \n",
        "Create a DataFrame by passing a random numpy array,with a datetie index and labelled columns.and,\n",
        "    - slice its first three rows and display.\n",
        "    - slice its odd indexed rows.\n",
        "    - display the dates from 1st postion to 4 th position."
      ]
    },
    {
      "cell_type": "code",
      "metadata": {
        "id": "5zFM5VOJBKBV",
        "colab": {
          "base_uri": "https://localhost:8080/"
        },
        "outputId": "28e03816-4957-49ac-f63d-b9ae1088b220"
      },
      "source": [
        "#please provide your answer below this line.\n",
        "import pandas as pd\n",
        "import numpy as np\n",
        "dates=pd.date_range('20201010',periods=6)\n",
        "df=pd.DataFrame(np.random.randn(6,4),index=dates,columns=list('ABCD'))\n",
        "print(df)\n",
        "print(df.iloc[0:3])\n",
        "print(df.iloc[1::2])\n",
        "print(df.iloc[0:5])\n"
      ],
      "execution_count": 27,
      "outputs": [
        {
          "output_type": "stream",
          "text": [
            "                   A         B         C         D\n",
            "2020-10-10 -1.284423  0.006828  0.270124 -0.198094\n",
            "2020-10-11  0.036535  0.807257  0.667535  0.090133\n",
            "2020-10-12  1.347520 -0.349669 -0.070490  0.725334\n",
            "2020-10-13 -1.115830 -1.251592 -1.113738  1.331488\n",
            "2020-10-14 -1.735544 -0.288037 -0.816297 -0.155442\n",
            "2020-10-15 -0.563273 -1.879269 -0.538491  1.079123\n",
            "                   A         B         C         D\n",
            "2020-10-10 -1.284423  0.006828  0.270124 -0.198094\n",
            "2020-10-11  0.036535  0.807257  0.667535  0.090133\n",
            "2020-10-12  1.347520 -0.349669 -0.070490  0.725334\n",
            "                   A         B         C         D\n",
            "2020-10-11  0.036535  0.807257  0.667535  0.090133\n",
            "2020-10-13 -1.115830 -1.251592 -1.113738  1.331488\n",
            "2020-10-15 -0.563273 -1.879269 -0.538491  1.079123\n",
            "                   A         B         C         D\n",
            "2020-10-10 -1.284423  0.006828  0.270124 -0.198094\n",
            "2020-10-11  0.036535  0.807257  0.667535  0.090133\n",
            "2020-10-12  1.347520 -0.349669 -0.070490  0.725334\n",
            "2020-10-13 -1.115830 -1.251592 -1.113738  1.331488\n",
            "2020-10-14 -1.735544 -0.288037 -0.816297 -0.155442\n"
          ],
          "name": "stdout"
        }
      ]
    },
    {
      "cell_type": "markdown",
      "metadata": {
        "id": "QuoucvjxBPmX"
      },
      "source": [
        "2. Create a DataFrame by passing a random numpy array,with a datetie index and labelled columns.and\n",
        "  - Dislplay the index from the 1 to 3 date and the columns A and B of respective data.\n",
        "  - Display the datas at the 3rd index.\n",
        "  - Display datas from 2nd to 5th.\n",
        "  - Display the datas from the index 1,2,4 and the column 0 and 2."
      ]
    },
    {
      "cell_type": "code",
      "metadata": {
        "id": "qV_wzsp1DUKI",
        "colab": {
          "base_uri": "https://localhost:8080/"
        },
        "outputId": "83880683-9b73-438d-9aab-508cffb5d057"
      },
      "source": [
        "#please provide your answer below thins line.\n",
        "import pandas as pd\n",
        "import numpy as np\n",
        "dates=pd.date_range('20201010',periods=6)\n",
        "df=pd.DataFrame(np.random.randn(6,4),index=dates,columns=list('ABCD'))\n",
        "print(df)\n",
        "print(df.iloc[1:4,0:2])\n",
        "print(df.iloc[3])\n",
        "print(df.iloc[2:6])\n",
        "print(df.iloc[[1,2,4],[0,2]])\n"
      ],
      "execution_count": 30,
      "outputs": [
        {
          "output_type": "stream",
          "text": [
            "                   A         B         C         D\n",
            "2020-10-10  1.775917 -0.078487 -0.000494 -0.308838\n",
            "2020-10-11  0.175243  0.278678 -0.759822 -0.930587\n",
            "2020-10-12  0.227795 -0.912662  0.168797 -0.618206\n",
            "2020-10-13  2.230909  1.056212 -0.470001 -0.193782\n",
            "2020-10-14 -0.956181  1.169121  1.066316 -0.547181\n",
            "2020-10-15 -2.011858 -0.716476 -2.072099 -0.246962\n",
            "                   A         B\n",
            "2020-10-11  0.175243  0.278678\n",
            "2020-10-12  0.227795 -0.912662\n",
            "2020-10-13  2.230909  1.056212\n",
            "A    2.230909\n",
            "B    1.056212\n",
            "C   -0.470001\n",
            "D   -0.193782\n",
            "Name: 2020-10-13 00:00:00, dtype: float64\n",
            "                   A         B         C         D\n",
            "2020-10-12  0.227795 -0.912662  0.168797 -0.618206\n",
            "2020-10-13  2.230909  1.056212 -0.470001 -0.193782\n",
            "2020-10-14 -0.956181  1.169121  1.066316 -0.547181\n",
            "2020-10-15 -2.011858 -0.716476 -2.072099 -0.246962\n",
            "                   A         C\n",
            "2020-10-11  0.175243 -0.759822\n",
            "2020-10-12  0.227795  0.168797\n",
            "2020-10-14 -0.956181  1.066316\n"
          ],
          "name": "stdout"
        }
      ]
    }
  ]
}