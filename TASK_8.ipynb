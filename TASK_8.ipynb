{
  "nbformat": 4,
  "nbformat_minor": 0,
  "metadata": {
    "colab": {
      "name": "TASK 8.ipynb",
      "provenance": [],
      "include_colab_link": true
    },
    "kernelspec": {
      "name": "python3",
      "display_name": "Python 3"
    },
    "language_info": {
      "name": "python"
    }
  },
  "cells": [
    {
      "cell_type": "markdown",
      "metadata": {
        "id": "view-in-github",
        "colab_type": "text"
      },
      "source": [
        "<a href=\"https://colab.research.google.com/github/HibaNasreen/Learn.py/blob/main/TASK_8.ipynb\" target=\"_parent\"><img src=\"https://colab.research.google.com/assets/colab-badge.svg\" alt=\"Open In Colab\"/></a>"
      ]
    },
    {
      "cell_type": "markdown",
      "metadata": {
        "id": "slsGswYbJSo7"
      },
      "source": [
        "1. Generate a 3 x 3 matrix using random module."
      ]
    },
    {
      "cell_type": "code",
      "metadata": {
        "id": "GGRQSYyNJW9t",
        "outputId": "ac792cbd-54da-49ca-99f9-080d66fc05cc",
        "colab": {
          "base_uri": "https://localhost:8080/"
        }
      },
      "source": [
        "#please provide your answer below this line.\n",
        " \n",
        "import numpy as np\n",
        "array= np.random.randint(10,size=(3,3))\n",
        "print(array)"
      ],
      "execution_count": 1,
      "outputs": [
        {
          "output_type": "stream",
          "text": [
            "[[3 4 7]\n",
            " [8 4 4]\n",
            " [2 3 6]]\n"
          ],
          "name": "stdout"
        }
      ]
    },
    {
      "cell_type": "markdown",
      "metadata": {
        "id": "4OB9KFX6JfYA"
      },
      "source": [
        "2. Generate two 4 x 4 matrix using numpy and \n",
        "\n",
        " a) Reshape it to 2 x 8matrix and vertically stack it.\n",
        "\n",
        " b) Reshape it to 2 x 8 matrix and horizontally stack it."
      ]
    },
    {
      "cell_type": "code",
      "metadata": {
        "id": "VoIqYeNWJ4H_",
        "outputId": "00d6ad44-f540-4ce7-bd36-ebf6abaa0d2f",
        "colab": {
          "base_uri": "https://localhost:8080/"
        }
      },
      "source": [
        "#please provide your answer below this line.\n",
        " \n",
        "import numpy as np\n",
        "array1= np.random.randint(10,size=(4,4))\n",
        "print(array1)\n",
        "array2=np.random.randint(10,size=(4,4))\n",
        "print(array2)\n",
        "a=array1.reshape(2,8)\n",
        "b=array2.reshape(2,8)\n",
        "print (np.vstack((a,b)))\n",
        "print (np.hstack((a,b)))"
      ],
      "execution_count": 9,
      "outputs": [
        {
          "output_type": "stream",
          "text": [
            "[[3 7 3 4]\n",
            " [4 5 7 3]\n",
            " [2 4 9 2]\n",
            " [7 3 8 3]]\n",
            "[[4 0 0 0]\n",
            " [2 4 9 8]\n",
            " [5 8 7 3]\n",
            " [1 5 9 7]]\n",
            "[[3 7 3 4 4 5 7 3]\n",
            " [2 4 9 2 7 3 8 3]\n",
            " [4 0 0 0 2 4 9 8]\n",
            " [5 8 7 3 1 5 9 7]]\n",
            "[[3 7 3 4 4 5 7 3 4 0 0 0 2 4 9 8]\n",
            " [2 4 9 2 7 3 8 3 5 8 7 3 1 5 9 7]]\n"
          ],
          "name": "stdout"
        }
      ]
    }
  ]
}