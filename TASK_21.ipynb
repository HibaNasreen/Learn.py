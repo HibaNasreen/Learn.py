{
  "nbformat": 4,
  "nbformat_minor": 0,
  "metadata": {
    "colab": {
      "name": "Copy of TASK 21.ipynb",
      "provenance": [],
      "include_colab_link": true
    },
    "kernelspec": {
      "name": "python3",
      "display_name": "Python 3"
    },
    "language_info": {
      "name": "python"
    }
  },
  "cells": [
    {
      "cell_type": "markdown",
      "metadata": {
        "id": "view-in-github",
        "colab_type": "text"
      },
      "source": [
        "<a href=\"https://colab.research.google.com/github/HibaNasreen/Learn.py/blob/main/TASK_21.ipynb\" target=\"_parent\"><img src=\"https://colab.research.google.com/assets/colab-badge.svg\" alt=\"Open In Colab\"/></a>"
      ]
    },
    {
      "cell_type": "markdown",
      "metadata": {
        "id": "wK9sv7fHTnyo"
      },
      "source": [
        "1.  Using the dataset given below,\n",
        "  - Group the given dataset by A and find the sum of the groups.\n",
        "  - Find the 3 least elements from the column D\n",
        "  - Find the 3 largest elements from the Column D which belongs to the group\n",
        "  'bar'."
      ]
    },
    {
      "cell_type": "code",
      "metadata": {
        "id": "C_Kq4i_rVNyB",
        "colab": {
          "base_uri": "https://localhost:8080/"
        },
        "outputId": "66214876-5669-4e54-8ddd-f4c104666e2a"
      },
      "source": [
        "import pandas as pd\n",
        "import numpy as np\n",
        "df = pd.DataFrame({'A' : ['foo', 'bar', 'foo', 'bar',\n",
        "                          'foo', 'bar', 'foo', 'foo'],\n",
        "                   'B' : ['one', 'one', 'two', 'three',\n",
        "                          'two', 'two', 'one', 'three'],\n",
        "                   'C' : np.random.randn(8),\n",
        "                   'D' : np.random.randn(8)})\n",
        "print(df)\n",
        "#please type your code below this line.\n",
        "print(df.groupby([\"A\"]).sum())\n",
        "print(df.nsmallest(3,[\"D\"]))\n",
        "print(df.nlargest(3,[\"D\"]))\n",
        "\n"
      ],
      "execution_count": 62,
      "outputs": [
        {
          "output_type": "stream",
          "name": "stdout",
          "text": [
            "     A      B         C         D\n",
            "0  foo    one  0.872556  2.196903\n",
            "1  bar    one  0.869934 -0.095849\n",
            "2  foo    two  1.425768  1.493328\n",
            "3  bar  three  0.824082  0.453098\n",
            "4  foo    two  0.989509  0.364130\n",
            "5  bar    two  0.964792 -0.948422\n",
            "6  foo    one  0.322620 -1.359324\n",
            "7  foo  three -1.096592 -0.311346\n",
            "            C         D\n",
            "A                      \n",
            "bar  2.658808 -0.591174\n",
            "foo  2.513862  2.383691\n",
            "     A      B         C         D\n",
            "6  foo    one  0.322620 -1.359324\n",
            "5  bar    two  0.964792 -0.948422\n",
            "7  foo  three -1.096592 -0.311346\n",
            "     A      B         C         D\n",
            "0  foo    one  0.872556  2.196903\n",
            "2  foo    two  1.425768  1.493328\n",
            "3  bar  three  0.824082  0.453098\n"
          ]
        }
      ]
    },
    {
      "cell_type": "markdown",
      "metadata": {
        "id": "68XLHGsrdHXb"
      },
      "source": [
        "2. Using the dataset given below,\n",
        "  - convert the dataset into a csv file.\n",
        "  - read the csv file just saved\n",
        "  - covert the dataset into a excel file.\n",
        "  - read the excel file just saved."
      ]
    },
    {
      "cell_type": "code",
      "metadata": {
        "id": "J4BOx3UZdVLV",
        "colab": {
          "base_uri": "https://localhost:8080/"
        },
        "outputId": "298ccb24-1341-4391-fece-09bc5f3f985e"
      },
      "source": [
        "import pandas as pd\n",
        "import numpy as np\n",
        "df = pd.DataFrame({'A' : ['foo', 'bar', 'foo', 'bar',\n",
        "                          'foo', 'bar', 'foo', 'foo'],\n",
        "                   'B' : ['one', 'one', 'two', 'three',\n",
        "                          'two', 'two', 'one', 'three'],\n",
        "                   'C' : np.random.randn(8),\n",
        "                   'D' : np.random.randn(8)})\n",
        "#please type your code below this line.\n",
        "print(df)\n",
        "print(df.to_csv('data.csv'))\n",
        "print(pd.read_csv('data.csv',index_col=0))\n",
        "file_name='datasheet.xlsx'\n",
        "print(df.to_excel(file_name))\n",
        "print(pd.read_excel('datasheet.xlsx',index_col=0))\n"
      ],
      "execution_count": null,
      "outputs": [
        {
          "output_type": "stream",
          "name": "stdout",
          "text": [
            "     A      B         C         D\n",
            "0  foo    one -0.406560  2.091276\n",
            "1  bar    one  2.553019  1.584369\n",
            "2  foo    two  1.089117 -0.239436\n",
            "3  bar  three  1.513725  0.955895\n",
            "4  foo    two  0.858510 -2.373985\n",
            "5  bar    two  2.105699  1.024189\n",
            "6  foo    one -0.253842  0.612630\n",
            "7  foo  three  0.862843 -0.069805\n",
            "None\n",
            "     A      B         C         D\n",
            "0  foo    one -0.406560  2.091276\n",
            "1  bar    one  2.553019  1.584369\n",
            "2  foo    two  1.089117 -0.239436\n",
            "3  bar  three  1.513725  0.955895\n",
            "4  foo    two  0.858510 -2.373985\n",
            "5  bar    two  2.105699  1.024189\n",
            "6  foo    one -0.253842  0.612630\n",
            "7  foo  three  0.862843 -0.069805\n",
            "None\n",
            "     A      B         C         D\n",
            "0  foo    one -0.406560  2.091276\n",
            "1  bar    one  2.553019  1.584369\n",
            "2  foo    two  1.089117 -0.239436\n",
            "3  bar  three  1.513725  0.955895\n",
            "4  foo    two  0.858510 -2.373985\n",
            "5  bar    two  2.105699  1.024189\n",
            "6  foo    one -0.253842  0.612630\n",
            "7  foo  three  0.862843 -0.069805\n"
          ]
        }
      ]
    }
  ]
}