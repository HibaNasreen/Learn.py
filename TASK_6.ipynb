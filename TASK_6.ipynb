{
  "nbformat": 4,
  "nbformat_minor": 0,
  "metadata": {
    "colab": {
      "name": "TASK 6.ipynb",
      "provenance": [],
      "include_colab_link": true
    },
    "kernelspec": {
      "name": "python3",
      "display_name": "Python 3"
    },
    "language_info": {
      "name": "python"
    }
  },
  "cells": [
    {
      "cell_type": "markdown",
      "metadata": {
        "id": "view-in-github",
        "colab_type": "text"
      },
      "source": [
        "<a href=\"https://colab.research.google.com/github/HibaNasreen/Learn.py/blob/main/TASK_6.ipynb\" target=\"_parent\"><img src=\"https://colab.research.google.com/assets/colab-badge.svg\" alt=\"Open In Colab\"/></a>"
      ]
    },
    {
      "cell_type": "markdown",
      "metadata": {
        "id": "2aT_QhgIny6V"
      },
      "source": [
        "1. Write a Python program to find those numbers which are divisible by 7 and multiple of 11, between 1000 and 2000 (both included)."
      ]
    },
    {
      "cell_type": "code",
      "metadata": {
        "id": "KlFG2BFZoEEU",
        "outputId": "a400f437-1bc6-4b8b-9b23-78eb27658735",
        "colab": {
          "base_uri": "https://localhost:8080/"
        }
      },
      "source": [
        "#please enter your answer below this line\n",
        " \n",
        "for i in range (1000,2001):\n",
        "    if (i%7==0 and i%11==0):\n",
        "        print (i)"
      ],
      "execution_count": 12,
      "outputs": [
        {
          "output_type": "stream",
          "text": [
            "1001\n",
            "1078\n",
            "1155\n",
            "1232\n",
            "1309\n",
            "1386\n",
            "1463\n",
            "1540\n",
            "1617\n",
            "1694\n",
            "1771\n",
            "1848\n",
            "1925\n"
          ],
          "name": "stdout"
        }
      ]
    },
    {
      "cell_type": "markdown",
      "metadata": {
        "id": "ZesHXUMboLu7"
      },
      "source": [
        "2. Write a program to print this pattern\n",
        "\n",
        "           #\n",
        "          ## \n",
        "         ###"
      ]
    },
    {
      "cell_type": "code",
      "metadata": {
        "id": "64-aUjWbohqz",
        "outputId": "4cf3da54-c5ee-48dd-9638-9e29fa669f4a",
        "colab": {
          "base_uri": "https://localhost:8080/"
        }
      },
      "source": [
        "#please enter your answer below this line\n",
        "for i in range (1,4):\n",
        "    for j in range (1,4-i):\n",
        "        print (\" \", end =\"\")\n",
        "    for k in range (1,i+1):\n",
        "            print (\"#\",end =\"\")\n",
        "    print ()"
      ],
      "execution_count": 14,
      "outputs": [
        {
          "output_type": "stream",
          "text": [
            "  #\n",
            " ##\n",
            "###\n"
          ],
          "name": "stdout"
        }
      ]
    },
    {
      "cell_type": "markdown",
      "metadata": {
        "id": "6ZepaaI-ow6W"
      },
      "source": [
        "3. list=[apple, orange, apple, banana]\n",
        ". Replace all the apple in the list with grapes using for loop"
      ]
    },
    {
      "cell_type": "code",
      "metadata": {
        "id": "D7UOyf_6o6Ax",
        "outputId": "bd5b9664-5529-48fd-bfe0-39c682d31cf6",
        "colab": {
          "base_uri": "https://localhost:8080/"
        }
      },
      "source": [
        "#please enter your answer below this line\n",
        "list=[\"apple\",\" orange\", \"apple\", \"banana\"]\n",
        "print(list[:])\n",
        "for i in range(0,4):\n",
        "    if(list[i]==\"apple\"):\n",
        "        list [i]=\"grapes\"\n",
        "print(list[:])"
      ],
      "execution_count": 13,
      "outputs": [
        {
          "output_type": "stream",
          "text": [
            "['apple', ' orange', 'apple', 'banana']\n",
            "['grapes', ' orange', 'grapes', 'banana']\n"
          ],
          "name": "stdout"
        }
      ]
    }
  ]
}